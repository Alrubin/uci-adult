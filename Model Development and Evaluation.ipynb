{
 "cells": [
  {
   "cell_type": "markdown",
   "id": "696d3b7f",
   "metadata": {},
   "source": [
    "# Model Development and Evaluation\n",
    "### Alessandro Rubin"
   ]
  },
  {
   "cell_type": "code",
   "execution_count": 1,
   "id": "0aca4964",
   "metadata": {},
   "outputs": [],
   "source": [
    "import numpy as np\n",
    "import pandas as pd\n",
    "import matplotlib.pyplot as plt\n",
    "import seaborn as sns\n",
    "from scipy import stats\n",
    "from sklearn.preprocessing import LabelEncoder, MinMaxScaler\n",
    "from sklearn.decomposition import PCA\n",
    "from sklearn.model_selection import train_test_split\n",
    "from sklearn.linear_model import LogisticRegression\n",
    "from sklearn.neighbors import KNeighborsClassifier\n",
    "from sklearn.tree import DecisionTreeClassifier\n",
    "from sklearn.svm import SVC\n",
    "from sklearn.ensemble import AdaBoostClassifier, RandomForestClassifier\n",
    "from sklearn.metrics import mean_squared_error"
   ]
  },
  {
   "cell_type": "markdown",
   "id": "a09f96dc",
   "metadata": {},
   "source": [
    "## Data Acquisition"
   ]
  },
  {
   "cell_type": "code",
   "execution_count": 2,
   "id": "1e6cd287",
   "metadata": {},
   "outputs": [],
   "source": [
    "#import the dataframe\n",
    "df = pd.read_csv(\"uci_adult.csv\", sep = \"|\")"
   ]
  },
  {
   "cell_type": "code",
   "execution_count": 3,
   "id": "cfdbad33",
   "metadata": {},
   "outputs": [
    {
     "data": {
      "text/html": [
       "<div>\n",
       "<style scoped>\n",
       "    .dataframe tbody tr th:only-of-type {\n",
       "        vertical-align: middle;\n",
       "    }\n",
       "\n",
       "    .dataframe tbody tr th {\n",
       "        vertical-align: top;\n",
       "    }\n",
       "\n",
       "    .dataframe thead th {\n",
       "        text-align: right;\n",
       "    }\n",
       "</style>\n",
       "<table border=\"1\" class=\"dataframe\">\n",
       "  <thead>\n",
       "    <tr style=\"text-align: right;\">\n",
       "      <th></th>\n",
       "      <th>Unnamed: 0</th>\n",
       "      <th>age</th>\n",
       "      <th>workclass</th>\n",
       "      <th>fnlwgt</th>\n",
       "      <th>education</th>\n",
       "      <th>educ-num</th>\n",
       "      <th>marital-stat</th>\n",
       "      <th>occupation</th>\n",
       "      <th>relationship</th>\n",
       "      <th>race</th>\n",
       "      <th>sex</th>\n",
       "      <th>capital-gain</th>\n",
       "      <th>capital-loss</th>\n",
       "      <th>hours-per-week</th>\n",
       "      <th>native-country</th>\n",
       "      <th>income</th>\n",
       "    </tr>\n",
       "  </thead>\n",
       "  <tbody>\n",
       "    <tr>\n",
       "      <th>0</th>\n",
       "      <td>0</td>\n",
       "      <td>39</td>\n",
       "      <td>State-gov</td>\n",
       "      <td>77516</td>\n",
       "      <td>Bachelors</td>\n",
       "      <td>13</td>\n",
       "      <td>Never-married</td>\n",
       "      <td>Adm-clerical</td>\n",
       "      <td>Not-in-family</td>\n",
       "      <td>White</td>\n",
       "      <td>Male</td>\n",
       "      <td>2174</td>\n",
       "      <td>0</td>\n",
       "      <td>40</td>\n",
       "      <td>United-States</td>\n",
       "      <td>&lt;=50K</td>\n",
       "    </tr>\n",
       "    <tr>\n",
       "      <th>1</th>\n",
       "      <td>1</td>\n",
       "      <td>50</td>\n",
       "      <td>Self-emp-not-inc</td>\n",
       "      <td>83311</td>\n",
       "      <td>Bachelors</td>\n",
       "      <td>13</td>\n",
       "      <td>Married-civ-spouse</td>\n",
       "      <td>Exec-managerial</td>\n",
       "      <td>Husband</td>\n",
       "      <td>White</td>\n",
       "      <td>Male</td>\n",
       "      <td>0</td>\n",
       "      <td>0</td>\n",
       "      <td>13</td>\n",
       "      <td>United-States</td>\n",
       "      <td>&lt;=50K</td>\n",
       "    </tr>\n",
       "    <tr>\n",
       "      <th>2</th>\n",
       "      <td>2</td>\n",
       "      <td>38</td>\n",
       "      <td>Private</td>\n",
       "      <td>215646</td>\n",
       "      <td>HS-grad</td>\n",
       "      <td>9</td>\n",
       "      <td>Divorced</td>\n",
       "      <td>Handlers-cleaners</td>\n",
       "      <td>Not-in-family</td>\n",
       "      <td>White</td>\n",
       "      <td>Male</td>\n",
       "      <td>0</td>\n",
       "      <td>0</td>\n",
       "      <td>40</td>\n",
       "      <td>United-States</td>\n",
       "      <td>&lt;=50K</td>\n",
       "    </tr>\n",
       "    <tr>\n",
       "      <th>3</th>\n",
       "      <td>3</td>\n",
       "      <td>53</td>\n",
       "      <td>Private</td>\n",
       "      <td>234721</td>\n",
       "      <td>11th</td>\n",
       "      <td>7</td>\n",
       "      <td>Married-civ-spouse</td>\n",
       "      <td>Handlers-cleaners</td>\n",
       "      <td>Husband</td>\n",
       "      <td>Black</td>\n",
       "      <td>Male</td>\n",
       "      <td>0</td>\n",
       "      <td>0</td>\n",
       "      <td>40</td>\n",
       "      <td>United-States</td>\n",
       "      <td>&lt;=50K</td>\n",
       "    </tr>\n",
       "    <tr>\n",
       "      <th>4</th>\n",
       "      <td>4</td>\n",
       "      <td>28</td>\n",
       "      <td>Private</td>\n",
       "      <td>338409</td>\n",
       "      <td>Bachelors</td>\n",
       "      <td>13</td>\n",
       "      <td>Married-civ-spouse</td>\n",
       "      <td>Prof-specialty</td>\n",
       "      <td>Wife</td>\n",
       "      <td>Black</td>\n",
       "      <td>Female</td>\n",
       "      <td>0</td>\n",
       "      <td>0</td>\n",
       "      <td>40</td>\n",
       "      <td>Cuba</td>\n",
       "      <td>&lt;=50K</td>\n",
       "    </tr>\n",
       "  </tbody>\n",
       "</table>\n",
       "</div>"
      ],
      "text/plain": [
       "   Unnamed: 0  age          workclass  fnlwgt   education  educ-num  \\\n",
       "0           0   39          State-gov   77516   Bachelors        13   \n",
       "1           1   50   Self-emp-not-inc   83311   Bachelors        13   \n",
       "2           2   38            Private  215646     HS-grad         9   \n",
       "3           3   53            Private  234721        11th         7   \n",
       "4           4   28            Private  338409   Bachelors        13   \n",
       "\n",
       "          marital-stat          occupation    relationship    race      sex  \\\n",
       "0        Never-married        Adm-clerical   Not-in-family   White     Male   \n",
       "1   Married-civ-spouse     Exec-managerial         Husband   White     Male   \n",
       "2             Divorced   Handlers-cleaners   Not-in-family   White     Male   \n",
       "3   Married-civ-spouse   Handlers-cleaners         Husband   Black     Male   \n",
       "4   Married-civ-spouse      Prof-specialty            Wife   Black   Female   \n",
       "\n",
       "   capital-gain  capital-loss  hours-per-week  native-country  income  \n",
       "0          2174             0              40   United-States   <=50K  \n",
       "1             0             0              13   United-States   <=50K  \n",
       "2             0             0              40   United-States   <=50K  \n",
       "3             0             0              40   United-States   <=50K  \n",
       "4             0             0              40            Cuba   <=50K  "
      ]
     },
     "execution_count": 3,
     "metadata": {},
     "output_type": "execute_result"
    }
   ],
   "source": [
    "df.head()"
   ]
  },
  {
   "cell_type": "markdown",
   "id": "c5282781",
   "metadata": {},
   "source": [
    "<div class=\"alert alert-block alert-info\" style=\"margin-top: 20px\">\n",
    "<h2> Preprocessing </h2>\n",
    "</div>"
   ]
  },
  {
   "cell_type": "markdown",
   "id": "64020832",
   "metadata": {},
   "source": [
    "### Null valure Treatment"
   ]
  },
  {
   "cell_type": "markdown",
   "id": "855622a9",
   "metadata": {},
   "source": [
    "NO NON VA BENE: DEVO SOSTITUIRE LA MEDIA O LA MODA DEL TRAINING SET E NON DI TUTTO IL SET!"
   ]
  },
  {
   "cell_type": "markdown",
   "id": "844ef7a1",
   "metadata": {},
   "source": [
    "In the previous analysis we have changed the missing values with proper NaN values. At this point we will fill them with the mode of the columnn. Remember that we have missing values only in three columns: workclass, occupation and native-country."
   ]
  },
  {
   "cell_type": "code",
   "execution_count": 4,
   "id": "b76a30c2",
   "metadata": {},
   "outputs": [],
   "source": []
  },
  {
   "cell_type": "code",
   "execution_count": 5,
   "id": "6e6ebc0f",
   "metadata": {},
   "outputs": [],
   "source": [
    "def null_treatment(df):\n",
    "    null_columns = [\"workclass\", \"occupation\", \"native-country\"]\n",
    "    for col in null_columns:\n",
    "        df[col].fillna(df[col].mode().values[0],inplace=True)  #strategy media, moda o mediana!\n",
    "        return df"
   ]
  },
  {
   "cell_type": "code",
   "execution_count": 6,
   "id": "a3990214",
   "metadata": {},
   "outputs": [
    {
     "name": "stdout",
     "output_type": "stream",
     "text": [
      "<class 'pandas.core.frame.DataFrame'>\n",
      "RangeIndex: 32561 entries, 0 to 32560\n",
      "Data columns (total 16 columns):\n",
      " #   Column          Non-Null Count  Dtype \n",
      "---  ------          --------------  ----- \n",
      " 0   Unnamed: 0      32561 non-null  int64 \n",
      " 1   age             32561 non-null  int64 \n",
      " 2   workclass       32561 non-null  object\n",
      " 3   fnlwgt          32561 non-null  int64 \n",
      " 4   education       32561 non-null  object\n",
      " 5   educ-num        32561 non-null  int64 \n",
      " 6   marital-stat    32561 non-null  object\n",
      " 7   occupation      32561 non-null  object\n",
      " 8   relationship    32561 non-null  object\n",
      " 9   race            32561 non-null  object\n",
      " 10  sex             32561 non-null  object\n",
      " 11  capital-gain    32561 non-null  int64 \n",
      " 12  capital-loss    32561 non-null  int64 \n",
      " 13  hours-per-week  32561 non-null  int64 \n",
      " 14  native-country  32561 non-null  object\n",
      " 15  income          32561 non-null  object\n",
      "dtypes: int64(7), object(9)\n",
      "memory usage: 4.0+ MB\n"
     ]
    }
   ],
   "source": [
    "df.info()"
   ]
  },
  {
   "cell_type": "markdown",
   "id": "b058f628",
   "metadata": {},
   "source": [
    "### Label Encoding"
   ]
  },
  {
   "cell_type": "markdown",
   "id": "1773f77b",
   "metadata": {},
   "source": [
    "Label Encoding is performed to convert the categorical data into numeric format."
   ]
  },
  {
   "cell_type": "code",
   "execution_count": 7,
   "id": "3f4449e2",
   "metadata": {},
   "outputs": [
    {
     "name": "stdout",
     "output_type": "stream",
     "text": [
      "['workclass', 'education', 'marital-stat', 'occupation', 'relationship', 'race', 'sex', 'native-country', 'income']\n"
     ]
    }
   ],
   "source": [
    "cat_columns = df.select_dtypes(include = \"object\").columns.to_list()\n",
    "print(cat_columns)"
   ]
  },
  {
   "cell_type": "code",
   "execution_count": 8,
   "id": "58a95cc5",
   "metadata": {},
   "outputs": [
    {
     "data": {
      "text/plain": [
       "array([' State-gov', ' Self-emp-not-inc', ' Private', ' Federal-gov',\n",
       "       ' Local-gov', ' Self-emp-inc', ' Without-pay', ' Never-worked'],\n",
       "      dtype=object)"
      ]
     },
     "execution_count": 8,
     "metadata": {},
     "output_type": "execute_result"
    }
   ],
   "source": [
    "df[\"workclass\"].unique()"
   ]
  },
  {
   "cell_type": "code",
   "execution_count": null,
   "id": "c3fce4c1",
   "metadata": {},
   "outputs": [],
   "source": []
  },
  {
   "cell_type": "code",
   "execution_count": null,
   "id": "ef48ebe7",
   "metadata": {},
   "outputs": [],
   "source": []
  },
  {
   "cell_type": "markdown",
   "id": "3e4f7c9c",
   "metadata": {},
   "source": [
    "### Scaling the data"
   ]
  },
  {
   "cell_type": "code",
   "execution_count": null,
   "id": "908360cd",
   "metadata": {},
   "outputs": [],
   "source": []
  },
  {
   "cell_type": "code",
   "execution_count": null,
   "id": "942125a1",
   "metadata": {},
   "outputs": [],
   "source": []
  },
  {
   "cell_type": "markdown",
   "id": "7d34098c",
   "metadata": {},
   "source": [
    "### Outlier Treatment"
   ]
  },
  {
   "cell_type": "code",
   "execution_count": null,
   "id": "263e6e20",
   "metadata": {},
   "outputs": [],
   "source": []
  },
  {
   "cell_type": "code",
   "execution_count": null,
   "id": "ce21cef8",
   "metadata": {},
   "outputs": [],
   "source": []
  },
  {
   "cell_type": "code",
   "execution_count": null,
   "id": "599819ce",
   "metadata": {},
   "outputs": [],
   "source": []
  },
  {
   "cell_type": "code",
   "execution_count": null,
   "id": "e4f9303f",
   "metadata": {},
   "outputs": [],
   "source": []
  },
  {
   "cell_type": "markdown",
   "id": "2233d71f",
   "metadata": {},
   "source": [
    "### Trasformazione variabili categoriali\n"
   ]
  },
  {
   "cell_type": "code",
   "execution_count": null,
   "id": "01d83193",
   "metadata": {},
   "outputs": [],
   "source": [
    "# Creazione dummy variable per la colonna \"Workclass\"\n",
    "dv_1 = pd.get_dummies(df[\"workclass\"])\n",
    "\n",
    "# Creazione dummy variable per la colonna \"Education\"\n",
    "dv_2 = pd.get_dummies(df[\"education\"])\n",
    "\n",
    "# Creazione dummy variable per la colonna \"Marital Status\"\n",
    "dv_3 = pd.get_dummies(df[\"marital-stat\"])\n",
    "\n",
    "# Creazione dummy variable per la colonna \"Occupation\"\n",
    "dv_4 = pd.get_dummies(df[\"occupation\"])\n",
    "\n",
    "# Creazione dummy variable per la colonna \"Relationship\"\n",
    "dv_5 = pd.get_dummies(df[\"relationship\"])\n",
    "\n",
    "# Creazione dummy variable per la colonna \"Race\"\n",
    "dv_6 = pd.get_dummies(df[\"race\"])\n",
    "\n",
    "# Creazione dummy variable per la colonna \"Native Country\"\n",
    "dv_7 = pd.get_dummies(df[\"native-country\"])\n",
    "\n",
    "# Creazione dummy variable per la colonna \"Native Country\"\n",
    "dv_7 = pd.get_dummies(df[\"native-country\"])\n",
    "\n",
    "#Essendo il sesso una variabile binaria, trasformiamola in 0 per i maschi e 1 per le ragazze. \n",
    "df['sex'].replace(to_replace=[' Male',' Female'], value=[0,1],inplace=True)\n",
    "\n",
    "#Essendo la variabile da predirre una variabile binaria, trasformiamola in 0 per <=50k e 1 per >50k\n",
    "df['income'].replace(to_replace=[' <=50K',' >50K'], value=[0,1],inplace=True)"
   ]
  },
  {
   "cell_type": "code",
   "execution_count": null,
   "id": "5820d3df",
   "metadata": {},
   "outputs": [],
   "source": [
    "# uniamo le dummy variables al dataframe\n",
    "df = pd.concat([df, dv_1,dv_2,dv_3,dv_4,dv_5,dv_6,dv_7], axis=1)\n",
    "\n",
    "# togliamo le colonne originali dal dataframe\n",
    "df.drop([\"workclass\", \"education\", \"marital-stat\", \"occupation\",\"relationship\", \"race\",\"native-country\"], axis = 1, inplace=True)"
   ]
  },
  {
   "cell_type": "code",
   "execution_count": null,
   "id": "30241788",
   "metadata": {},
   "outputs": [],
   "source": [
    "df.head()"
   ]
  },
  {
   "cell_type": "markdown",
   "id": "5a1e2485",
   "metadata": {},
   "source": [
    "Adesso abbiamo il dataset pronto per l'analisi. "
   ]
  },
  {
   "cell_type": "markdown",
   "id": "48b933af",
   "metadata": {},
   "source": [
    "<div class=\"alert alert-danger alertdanger\" style=\"margin-top: 10px\">\n",
    "<h2 id=\"classifier\"> 3. Il Classificatore</h2>"
   ]
  },
  {
   "cell_type": "markdown",
   "id": "562924b1",
   "metadata": {},
   "source": [
    "Visto che il dataset è piuttosto corposo, eviterei di usare un algoritmo ad albero. Sono quindi più propenso ad utilizzare un algoritmo efficiente come K-Nearest Neighbors. Iniziamo definendo le variabili indipendenti X e la variabile dipendente y. "
   ]
  },
  {
   "cell_type": "code",
   "execution_count": null,
   "id": "c44409e5",
   "metadata": {},
   "outputs": [],
   "source": [
    "# X vettore variabili indipendenti - colonne considerate: tutte tranne income\n",
    "features = [x for x in list(df.columns)  if x!=\"income\" ]\n",
    "X = df[features]\n",
    "X.head()"
   ]
  },
  {
   "cell_type": "code",
   "execution_count": null,
   "id": "503c56cc",
   "metadata": {},
   "outputs": [],
   "source": [
    "# y vettore variabile dipendente \n",
    "y = df['income'].values\n",
    "y"
   ]
  },
  {
   "cell_type": "markdown",
   "id": "5a9ddc5b",
   "metadata": {},
   "source": [
    "Per evitare l'overfitting sui dati, spezzo il dataset in 80% di training e 20% di testing. "
   ]
  },
  {
   "cell_type": "code",
   "execution_count": null,
   "id": "fe443b8e",
   "metadata": {},
   "outputs": [],
   "source": [
    "from sklearn.model_selection import train_test_split\n",
    "\n",
    "X_train, X_test, y_train, y_test = train_test_split( X, y, test_size=0.2, random_state=4)\n",
    "print ('Train set:', X_train.shape,  y_train.shape)\n",
    "print ('Test set:', X_test.shape,  y_test.shape)"
   ]
  },
  {
   "cell_type": "markdown",
   "id": "e69c7203",
   "metadata": {},
   "source": [
    "Normalizziamo adesso le entrate nella variabile indipendente. "
   ]
  },
  {
   "cell_type": "code",
   "execution_count": null,
   "id": "8c99f4a1",
   "metadata": {},
   "outputs": [],
   "source": [
    "from sklearn import preprocessing\n",
    "\n",
    "X_train = preprocessing.StandardScaler().fit(X_train).transform(X_train)\n",
    "X_test = preprocessing.StandardScaler().fit(X_test).transform(X_test)\n"
   ]
  },
  {
   "cell_type": "code",
   "execution_count": null,
   "id": "a86869f4",
   "metadata": {},
   "outputs": [],
   "source": [
    "# Importiamo K-Nearest Neighbor e le librerie per la valutazione dell'accuratezza\n",
    "from sklearn.neighbors import KNeighborsClassifier\n",
    "from sklearn import metrics"
   ]
  },
  {
   "cell_type": "code",
   "execution_count": null,
   "id": "38793740",
   "metadata": {},
   "outputs": [],
   "source": [
    "# Faccio interare K-NN per tutti i K tra 1 e 15 e determino quello con l'accuratezza migliore\n",
    "Ks = 15\n",
    "mean_acc = np.zeros((Ks-1))\n",
    "std_acc = np.zeros((Ks-1))\n",
    "\n",
    "for n in range(1,Ks):\n",
    "    neigh = KNeighborsClassifier(n_neighbors = n).fit(X_train,y_train)\n",
    "    yhat=neigh.predict(X_test)\n",
    "    mean_acc[n-1] = metrics.accuracy_score(y_test, yhat)\n",
    "    std_acc[n-1]=np.std(yhat==y_test)/np.sqrt(yhat.shape[0])\n",
    "\n",
    "mean_acc"
   ]
  },
  {
   "cell_type": "markdown",
   "id": "6efa56cd",
   "metadata": {},
   "source": [
    "Determiniamo ora la migliore approssimazione."
   ]
  },
  {
   "cell_type": "code",
   "execution_count": null,
   "id": "e1ff1659",
   "metadata": {},
   "outputs": [],
   "source": [
    "print( \"La migliore accuratezza si ottiene per k =\", mean_acc.argmax()+1, \" e vale\", mean_acc.max()) "
   ]
  },
  {
   "cell_type": "markdown",
   "id": "4a2a1188",
   "metadata": {},
   "source": [
    "Ne possiamo anche fare un plot."
   ]
  },
  {
   "cell_type": "code",
   "execution_count": null,
   "id": "59409747",
   "metadata": {},
   "outputs": [],
   "source": [
    "import matplotlib.pyplot as plt\n",
    "plt.plot(range(1,Ks),mean_acc,'g')\n",
    "plt.fill_between(range(1,Ks),mean_acc - 1 * std_acc,mean_acc + 1 * std_acc, alpha=0.10)\n",
    "plt.legend(('Accuratezza ', '+/- 1xstd'))\n",
    "plt.ylabel('Accuratezza ')\n",
    "plt.xlabel('Numero di Neighbors (K)')\n",
    "plt.tight_layout()\n",
    "plt.show()"
   ]
  },
  {
   "cell_type": "markdown",
   "id": "f0ab3152",
   "metadata": {},
   "source": [
    "Scriviamo quindi esplicitamente il nostro classificatore. "
   ]
  },
  {
   "cell_type": "code",
   "execution_count": null,
   "id": "236ceb17",
   "metadata": {},
   "outputs": [],
   "source": [
    "model = KNeighborsClassifier(n_neighbors = 11).fit(X_train,y_train)\n",
    "yhat=neigh.predict(X_test)\n",
    "yhat[0:10]"
   ]
  },
  {
   "cell_type": "code",
   "execution_count": null,
   "id": "cfec0fd4",
   "metadata": {},
   "outputs": [],
   "source": []
  }
 ],
 "metadata": {
  "interpreter": {
   "hash": "ae5cc90d5f4ebd977ab5a910cbc83f9e6b7a62ac5c67a66d450c7fa25699a5a1"
  },
  "kernelspec": {
   "display_name": "Python 3 (ipykernel)",
   "language": "python",
   "name": "python3"
  },
  "language_info": {
   "codemirror_mode": {
    "name": "ipython",
    "version": 3
   },
   "file_extension": ".py",
   "mimetype": "text/x-python",
   "name": "python",
   "nbconvert_exporter": "python",
   "pygments_lexer": "ipython3",
   "version": "3.10.4"
  }
 },
 "nbformat": 4,
 "nbformat_minor": 5
}
